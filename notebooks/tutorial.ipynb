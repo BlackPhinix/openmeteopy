{
 "cells": [
  {
   "cell_type": "markdown",
   "metadata": {},
   "source": [
    "# Tutorial\n",
    "Use this notebook as a tutorial for the openmeteopy library."
   ]
  },
  {
   "cell_type": "code",
   "execution_count": 1,
   "metadata": {},
   "outputs": [],
   "source": [
    "import os\n",
    "os.chdir('../')\n",
    "\n",
    "from openmeteopy import OpenMeteo\n",
    "from openmeteopy.hourly import HourlyEcmwf\n",
    "from openmeteopy.options import EcmwfOptions\n",
    "from openmeteopy.utils.constants import *"
   ]
  },
  {
   "cell_type": "markdown",
   "metadata": {},
   "source": [
    "### Set the Open-Meteo client with coordinates, time and meteo variables"
   ]
  },
  {
   "cell_type": "code",
   "execution_count": 2,
   "metadata": {},
   "outputs": [],
   "source": [
    "# Latitude, Longitude \n",
    "latitude =  -6.31\n",
    "longitude = 33.89\n",
    "\n",
    "# Set a class to specify hourly forecasts for the ECMWF provider\n",
    "hourly = HourlyEcmwf()\n",
    "\n",
    "# Set the variables that you want to retrieve adding it to the hourly class\n",
    "hourly = hourly.windspeed_10m()\n",
    "hourly = hourly.temperature_300hpa()\n",
    "hourly = hourly.cloudcover()\n",
    "\n",
    "# Set options to get specific forecasts days and coordinates\n",
    "options = EcmwfOptions(latitude,\n",
    "                       longitude,\n",
    "                       forecast_days=3)\n",
    "\n",
    "# Set the OpenMeteo client to fetch data\n",
    "client = OpenMeteo(options,\n",
    "                   provider=\"ecmwf\",\n",
    "                   hourly=hourly)"
   ]
  },
  {
   "cell_type": "markdown",
   "metadata": {},
   "source": [
    "### Get the Open-Meteo response as a JSON file."
   ]
  },
  {
   "cell_type": "code",
   "execution_count": 11,
   "metadata": {},
   "outputs": [
    {
     "name": "stdout",
     "output_type": "stream",
     "text": [
      "{'hourly': {'time': ['2024-03-16T00:00', '2024-03-16T01:00', '2024-03-16T02:00', '2024-03-16T03:00', '2024-03-16T04:00', '2024-03-16T05:00', '2024-03-16T06:00', '2024-03-16T07:00', '2024-03-16T08:00', '2024-03-16T09:00', '2024-03-16T10:00', '2024-03-16T11:00', '2024-03-16T12:00', '2024-03-16T13:00', '2024-03-16T14:00', '2024-03-16T15:00', '2024-03-16T16:00', '2024-03-16T17:00', '2024-03-16T18:00', '2024-03-16T19:00', '2024-03-16T20:00', '2024-03-16T21:00', '2024-03-16T22:00', '2024-03-16T23:00', '2024-03-17T00:00', '2024-03-17T01:00', '2024-03-17T02:00', '2024-03-17T03:00', '2024-03-17T04:00', '2024-03-17T05:00', '2024-03-17T06:00', '2024-03-17T07:00', '2024-03-17T08:00', '2024-03-17T09:00', '2024-03-17T10:00', '2024-03-17T11:00', '2024-03-17T12:00', '2024-03-17T13:00', '2024-03-17T14:00', '2024-03-17T15:00', '2024-03-17T16:00', '2024-03-17T17:00', '2024-03-17T18:00', '2024-03-17T19:00', '2024-03-17T20:00', '2024-03-17T21:00', '2024-03-17T22:00', '2024-03-17T23:00', '2024-03-18T00:00', '2024-03-18T01:00', '2024-03-18T02:00', '2024-03-18T03:00', '2024-03-18T04:00', '2024-03-18T05:00', '2024-03-18T06:00', '2024-03-18T07:00', '2024-03-18T08:00', '2024-03-18T09:00', '2024-03-18T10:00', '2024-03-18T11:00', '2024-03-18T12:00', '2024-03-18T13:00', '2024-03-18T14:00', '2024-03-18T15:00', '2024-03-18T16:00', '2024-03-18T17:00', '2024-03-18T18:00', '2024-03-18T19:00', '2024-03-18T20:00', '2024-03-18T21:00', '2024-03-18T22:00', '2024-03-18T23:00'], 'windspeed_10m': [7.3, 8.0, 8.8, 9.8, 11.2, 13.3, 14.4, 14.8, 14.4, 13.7, 12.3, 10.1, 8.3, 7.6, 7.3, 6.5, 5.2, 5.1, 6.0, 6.3, 6.5, 6.6, 7.4, 8.4, 9.0, 8.3, 7.6, 7.1, 7.9, 9.2, 10.3, 10.9, 11.4, 11.2, 10.1, 8.4, 6.5, 4.7, 4.3, 5.4, 5.4, 5.4, 5.7, 6.9, 9.0, 10.5, 11.0, 11.3, 11.2, 11.0, 10.5, 11.2, 13.4, 16.3, 18.1, 18.1, 16.7, 15.2, 13.0, 10.9, 9.1, 8.3, 7.9, 8.3, 9.4, 10.9, 11.7, 10.8, 9.6, 8.6, 8.9, 10.4], 'temperature_300hPa': [-28.1, -28.4, -28.6, -28.8, -28.6, -28.5, -28.4, -28.4, -28.5, -28.5, -28.5, -28.2, -28.1, -28.1, -28.2, -28.3, -28.3, -28.3, -28.3, -28.2, -28.2, -28.2, -28.2, -28.3, -28.4, -28.6, -28.8, -29.0, -29.1, -29.1, -29.2, -29.2, -29.1, -29.1, -29.0, -29.0, -29.0, -29.0, -28.9, -28.9, -29.0, -29.2, -29.5, -29.5, -29.5, -29.4, -29.4, -29.4, -29.5, -29.6, -29.8, -30.0, -30.1, -30.1, -30.2, -30.2, -30.2, -30.0, -29.8, -29.4, -29.0, -28.7, -28.4, -28.2, -28.4, -28.8, -29.0, -29.2, -29.4, -29.5, -29.6, -29.6], 'cloudcover': [57, 61, 62, 59, 51, 39, 28, 18, 8, 1, 0, 0, 0, 0, 1, 3, 7, 13, 18, 21, 24, 30, 44, 61, 72, 73, 68, 61, 53, 43, 33, 20, 7, 0, 6, 19, 27, 23, 13, 6, 6, 9, 11, 12, 12, 14, 19, 25, 31, 38, 45, 47, 39, 25, 13, 6, 2, 0, 1, 5, 9, 12, 16, 23, 37, 54, 69, 82, 93, 100, 100, 100]}}\n"
     ]
    }
   ],
   "source": [
    "import json\n",
    "res_json = client.get_json()\n",
    "# Parse the string into a Python object\n",
    "json_data = json.loads(res_json)\n",
    "\n",
    "print(json_data)\n",
    "# Specify the file path where you want to save the JSON file\n",
    "file_path = \"data.json\"\n",
    "\n",
    "# Write the Python object to a JSON file\n",
    "with open(file_path, 'w') as json_file:\n",
    "    json.dump(json_data, json_file)\n",
    "\n",
    "# res_dict = json.loads(res_json)\n",
    "# print(res_dict)"
   ]
  },
  {
   "cell_type": "markdown",
   "metadata": {},
   "source": [
    "### Get the Open-Meteo response as a DataFrame object."
   ]
  },
  {
   "cell_type": "code",
   "execution_count": 4,
   "metadata": {},
   "outputs": [
    {
     "data": {
      "text/html": [
       "<div>\n",
       "<style scoped>\n",
       "    .dataframe tbody tr th:only-of-type {\n",
       "        vertical-align: middle;\n",
       "    }\n",
       "\n",
       "    .dataframe tbody tr th {\n",
       "        vertical-align: top;\n",
       "    }\n",
       "\n",
       "    .dataframe thead th {\n",
       "        text-align: right;\n",
       "    }\n",
       "</style>\n",
       "<table border=\"1\" class=\"dataframe\">\n",
       "  <thead>\n",
       "    <tr style=\"text-align: right;\">\n",
       "      <th></th>\n",
       "      <th>windspeed_10m</th>\n",
       "      <th>temperature_300hPa</th>\n",
       "      <th>cloudcover</th>\n",
       "    </tr>\n",
       "    <tr>\n",
       "      <th>time</th>\n",
       "      <th></th>\n",
       "      <th></th>\n",
       "      <th></th>\n",
       "    </tr>\n",
       "  </thead>\n",
       "  <tbody>\n",
       "    <tr>\n",
       "      <th>2024-03-16T00:00</th>\n",
       "      <td>7.3</td>\n",
       "      <td>-28.1</td>\n",
       "      <td>57</td>\n",
       "    </tr>\n",
       "    <tr>\n",
       "      <th>2024-03-16T01:00</th>\n",
       "      <td>8.0</td>\n",
       "      <td>-28.4</td>\n",
       "      <td>61</td>\n",
       "    </tr>\n",
       "    <tr>\n",
       "      <th>2024-03-16T02:00</th>\n",
       "      <td>8.8</td>\n",
       "      <td>-28.6</td>\n",
       "      <td>62</td>\n",
       "    </tr>\n",
       "    <tr>\n",
       "      <th>2024-03-16T03:00</th>\n",
       "      <td>9.8</td>\n",
       "      <td>-28.8</td>\n",
       "      <td>59</td>\n",
       "    </tr>\n",
       "    <tr>\n",
       "      <th>2024-03-16T04:00</th>\n",
       "      <td>11.2</td>\n",
       "      <td>-28.6</td>\n",
       "      <td>51</td>\n",
       "    </tr>\n",
       "    <tr>\n",
       "      <th>...</th>\n",
       "      <td>...</td>\n",
       "      <td>...</td>\n",
       "      <td>...</td>\n",
       "    </tr>\n",
       "    <tr>\n",
       "      <th>2024-03-18T19:00</th>\n",
       "      <td>10.8</td>\n",
       "      <td>-29.2</td>\n",
       "      <td>82</td>\n",
       "    </tr>\n",
       "    <tr>\n",
       "      <th>2024-03-18T20:00</th>\n",
       "      <td>9.6</td>\n",
       "      <td>-29.4</td>\n",
       "      <td>93</td>\n",
       "    </tr>\n",
       "    <tr>\n",
       "      <th>2024-03-18T21:00</th>\n",
       "      <td>8.6</td>\n",
       "      <td>-29.5</td>\n",
       "      <td>100</td>\n",
       "    </tr>\n",
       "    <tr>\n",
       "      <th>2024-03-18T22:00</th>\n",
       "      <td>8.9</td>\n",
       "      <td>-29.6</td>\n",
       "      <td>100</td>\n",
       "    </tr>\n",
       "    <tr>\n",
       "      <th>2024-03-18T23:00</th>\n",
       "      <td>10.4</td>\n",
       "      <td>-29.6</td>\n",
       "      <td>100</td>\n",
       "    </tr>\n",
       "  </tbody>\n",
       "</table>\n",
       "<p>72 rows × 3 columns</p>\n",
       "</div>"
      ],
      "text/plain": [
       "                  windspeed_10m  temperature_300hPa  cloudcover\n",
       "time                                                           \n",
       "2024-03-16T00:00            7.3               -28.1          57\n",
       "2024-03-16T01:00            8.0               -28.4          61\n",
       "2024-03-16T02:00            8.8               -28.6          62\n",
       "2024-03-16T03:00            9.8               -28.8          59\n",
       "2024-03-16T04:00           11.2               -28.6          51\n",
       "...                         ...                 ...         ...\n",
       "2024-03-18T19:00           10.8               -29.2          82\n",
       "2024-03-18T20:00            9.6               -29.4          93\n",
       "2024-03-18T21:00            8.6               -29.5         100\n",
       "2024-03-18T22:00            8.9               -29.6         100\n",
       "2024-03-18T23:00           10.4               -29.6         100\n",
       "\n",
       "[72 rows x 3 columns]"
      ]
     },
     "execution_count": 4,
     "metadata": {},
     "output_type": "execute_result"
    }
   ],
   "source": [
    "df = client.get_pandas()\n",
    "df"
   ]
  }
 ],
 "metadata": {
  "kernelspec": {
   "display_name": "base",
   "language": "python",
   "name": "python3"
  },
  "language_info": {
   "codemirror_mode": {
    "name": "ipython",
    "version": 3
   },
   "file_extension": ".py",
   "mimetype": "text/x-python",
   "name": "python",
   "nbconvert_exporter": "python",
   "pygments_lexer": "ipython3",
   "version": "3.9.18"
  }
 },
 "nbformat": 4,
 "nbformat_minor": 2
}
